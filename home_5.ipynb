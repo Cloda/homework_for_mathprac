{
 "cells": [
  {
   "cell_type": "markdown",
   "metadata": {},
   "source": [
    "### Homework №5"
   ]
  },
  {
   "cell_type": "code",
   "execution_count": 1,
   "metadata": {},
   "outputs": [
    {
     "name": "stderr",
     "output_type": "stream",
     "text": [
      "/opt/anaconda3/lib/python3.9/site-packages/scipy/__init__.py:146: UserWarning: A NumPy version >=1.16.5 and <1.23.0 is required for this version of SciPy (detected version 1.23.4\n",
      "  warnings.warn(f\"A NumPy version >={np_minversion} and <{np_maxversion}\"\n"
     ]
    }
   ],
   "source": [
    "import numpy as np\n",
    "import matplotlib.pyplot as plt\n",
    "from scipy import stats\n",
    "import time"
   ]
  },
  {
   "cell_type": "markdown",
   "metadata": {},
   "source": [
    "____________________________________________________________________________________________"
   ]
  },
  {
   "cell_type": "code",
   "execution_count": 28,
   "metadata": {},
   "outputs": [],
   "source": [
    "def rng(m=2**32, a=1103515245, c=12345):\n",
    "    rng.current = (a * rng.current + c) % m\n",
    "    return rng.current / m\n",
    "\n",
    "rng.current = 1"
   ]
  },
  {
   "cell_type": "code",
   "execution_count": 29,
   "metadata": {},
   "outputs": [],
   "source": [
    "def rng_bad(m=2**31, a=65539, c=0):\n",
    "    rng_bad.current = (a * rng_bad.current + c) % m\n",
    "    return rng_bad.current / m\n",
    "    \n",
    "rng_bad.current = 1"
   ]
  },
  {
   "cell_type": "code",
   "execution_count": 3,
   "metadata": {},
   "outputs": [],
   "source": [
    "samples = [rng() for _ in range(1000)]"
   ]
  },
  {
   "cell_type": "markdown",
   "metadata": {},
   "source": [
    "____________________________________________________________________________________________"
   ]
  },
  {
   "cell_type": "markdown",
   "metadata": {},
   "source": [
    "#### №1 \n",
    "Поделим квадрат [0,1]*[0,1] на 10 частей и проверим хи-квадрат\n"
   ]
  },
  {
   "cell_type": "code",
   "execution_count": 6,
   "metadata": {},
   "outputs": [
    {
     "data": {
      "text/plain": [
       "(array([28, 13, 23, 20, 15, 18, 20, 23, 19, 23, 20, 13, 17, 21, 14, 17, 22,\n",
       "        27, 16, 17, 22, 20, 23, 21, 28]),\n",
       " array([20, 20, 20, 20, 20, 20, 20, 20, 20, 20, 20, 20, 20, 20, 20, 20, 20,\n",
       "        20, 20, 20, 20, 20, 20, 20, 20]),\n",
       " Power_divergenceResult(statistic=21.5, pvalue=0.6090827152142755))"
      ]
     },
     "execution_count": 6,
     "metadata": {},
     "output_type": "execute_result"
    }
   ],
   "source": [
    "k = 25\n",
    "side = int(k**0.5)\n",
    "step = 0\n",
    "\n",
    "pointX = samples[::2]\n",
    "pointY = samples[1::2]\n",
    "\n",
    "x_ticks = np.linspace(0, 1, side + 1)\n",
    "\n",
    "massiveCountsInSquare = np.zeros(k, dtype = int)\n",
    "count = 0\n",
    "\n",
    "for i in range(side):\n",
    "    for j in range(side):\n",
    "        count = 0\n",
    "\n",
    "        for l in range(len(pointX)):\n",
    "            if((x_ticks[i] <= pointX[l] <= x_ticks[i + 1]) and (x_ticks[j] <= pointY[l] <= x_ticks[j + 1])):\n",
    "                count += 1\n",
    "        \n",
    "        massiveCountsInSquare[step] = count\n",
    "        step += 1\n",
    "        \n",
    "\n",
    "\n",
    "f_exp = np.full(k, len(samples) // (2*k))\n",
    "massiveCountsInSquare, f_exp, stats.chisquare(massiveCountsInSquare, f_exp)\n"
   ]
  },
  {
   "cell_type": "markdown",
   "metadata": {},
   "source": [
    "### №2 \n",
    "Будем считать количество порядков(те числа в одной серии в каком то отношении порядка)\n",
    "\n",
    "1 - следующий меньше текущего \n",
    "\n",
    "0 - иначе"
   ]
  },
  {
   "cell_type": "code",
   "execution_count": 11,
   "metadata": {},
   "outputs": [
    {
     "data": {
      "text/plain": [
       "(array([ 2,  5, 10,  7, 14, 28, 20,  5, 10, 16, 29, 17, 10, 20,  7]),\n",
       " array([8, 8, 8, 8, 8, 8, 8, 8, 8, 8, 8, 8, 8, 8, 8]),\n",
       " Power_divergenceResult(statistic=71.35, pvalue=1.0980722871413188e-09))"
      ]
     },
     "execution_count": 11,
     "metadata": {},
     "output_type": "execute_result"
    }
   ],
   "source": [
    "n = 1000\n",
    "d = 200                              # рабили на d строк\n",
    "\n",
    "newmassive = np.zeros(len(samples) - d)\n",
    "j = 0\n",
    "\n",
    "for i in range(0, n - 1):\n",
    "    if(i % (n // d) == 0):\n",
    "        continue\n",
    "\n",
    "    if(samples[i] < samples[i + 1]):\n",
    "        newmassive[j] = 0\n",
    "    else:\n",
    "        newmassive[j] = 1\n",
    "    j += 1\n",
    "\n",
    "newmassive = newmassive.reshape(d, -1)\n",
    "\n",
    "f_obs = np.unique(newmassive, return_counts = True , axis = 0)[1]\n",
    "f_exp = np.full(len(f_obs), n // np.math.factorial(n // d))\n",
    "\n",
    "f_exp, f_obs, n // np.math.factorial(n // d)\n",
    "f_obs, f_exp, stats.chisquare(f_obs, (np.sum(f_obs)/np.sum(f_exp))*f_exp)"
   ]
  },
  {
   "cell_type": "markdown",
   "metadata": {},
   "source": [
    "### №3\n",
    "Подберем статистический тест"
   ]
  },
  {
   "cell_type": "code",
   "execution_count": 31,
   "metadata": {},
   "outputs": [],
   "source": [
    "checkNorm = [rng() for _ in range(1000)]\n",
    "checkBad = [rng_bad() for _ in range(30000)]"
   ]
  },
  {
   "cell_type": "code",
   "execution_count": 38,
   "metadata": {},
   "outputs": [
    {
     "data": {
      "text/plain": [
       "KstestResult(statistic=0.008437018050998446, pvalue=0.027777953265237354)"
      ]
     },
     "execution_count": 38,
     "metadata": {},
     "output_type": "execute_result"
    }
   ],
   "source": [
    "stats.kstest(checkBad, stats.uniform.cdf)"
   ]
  },
  {
   "cell_type": "code",
   "execution_count": 39,
   "metadata": {},
   "outputs": [
    {
     "data": {
      "text/plain": [
       "KstestResult(statistic=0.0283867232911289, pvalue=0.3887430856707226)"
      ]
     },
     "execution_count": 39,
     "metadata": {},
     "output_type": "execute_result"
    }
   ],
   "source": [
    "stats.kstest(checkNorm, stats.uniform.cdf)"
   ]
  },
  {
   "cell_type": "markdown",
   "metadata": {},
   "source": [
    "### №4\n",
    "Для начала нормируем веса для алгоритмы. Далее используем кумулятивная, чтобы создать функцию распределения по такой выборке.\n"
   ]
  },
  {
   "cell_type": "code",
   "execution_count": 15,
   "metadata": {},
   "outputs": [],
   "source": [
    "def newDistribution(lenSample, distrib):\n",
    "    resultOfproc = np.zeros(lenSample, dtype=int)\n",
    "    for i in range(lenSample):\n",
    "        elem = np.random.rand()\n",
    "        j = 0\n",
    "        while(elem >= distrib[j]):\n",
    "            resultOfproc[i] += 1\n",
    "            j += 1\n",
    "    \n",
    "    return resultOfproc\n",
    "        \n",
    "    "
   ]
  },
  {
   "cell_type": "code",
   "execution_count": 23,
   "metadata": {},
   "outputs": [
    {
     "data": {
      "image/png": "[encoded data removed]",
      "text/plain": [
       "<Figure size 432x288 with 1 Axes>"
      ]
     },
     "metadata": {
      "needs_background": "light"
     },
     "output_type": "display_data"
    }
   ],
   "source": [
    "n = 1000\n",
    "massiveWeights = np.array([0.12, 0.3, 0.167, 0.24, 0.31, 0.54, 0.111, 0.02, 0.001, 0.2])\n",
    "massiveWeights /= np.sum(massiveWeights)\n",
    "F = np.cumsum(massiveWeights, dtype=np.double)\n",
    "\n",
    "# __________\n",
    "start_time_1 = time.time()\n",
    "\n",
    "result = newDistribution(n, F)\n",
    "\n",
    "end_time_1 = time.time() - start_time_1\n",
    "# __________\n",
    "\n",
    "plt.hist(result, range=(0, 10)) \n",
    "plt.xlabel('Numbers')\n",
    "plt.ylabel('Amount')\n",
    "plt.title('Histogram of Distribution')\n",
    "plt.show()\n"
   ]
  },
  {
   "cell_type": "code",
   "execution_count": 24,
   "metadata": {},
   "outputs": [
    {
     "data": {
      "image/png": "[encoded data removed]",
      "text/plain": [
       "<Figure size 432x288 with 1 Axes>"
      ]
     },
     "metadata": {
      "needs_background": "light"
     },
     "output_type": "display_data"
    }
   ],
   "source": [
    "massiveWeights = np.array([0.12, 0.3, 0.167, 0.24, 0.31, 0.54, 0.111, 0.02, 0.001, 0.2])\n",
    "massiveWeights /= np.sum(massiveWeights)\n",
    "getIndex = np.argsort(massiveWeights)\n",
    "massiveWeights = np.sort(massiveWeights)\n",
    "F = np.cumsum(massiveWeights, dtype=np.double)\n",
    "\n",
    "# __________\n",
    "start_time_2 = time.time()\n",
    "\n",
    "result = newDistribution(n, F)\n",
    "\n",
    "end_time_2 = time.time() - start_time_2\n",
    "# __________\n",
    "\n",
    "plt.hist(getIndex[result], range=(0, 10)) \n",
    "plt.xlabel('Numbers')\n",
    "plt.ylabel('Amount')\n",
    "plt.title('Histogram of Distribution')\n",
    "plt.show()\n"
   ]
  },
  {
   "cell_type": "code",
   "execution_count": 27,
   "metadata": {},
   "outputs": [
    {
     "name": "stdout",
     "output_type": "stream",
     "text": [
      "Ускорили в \n",
      "2.371220818982013\n"
     ]
    }
   ],
   "source": [
    "print(\"Ускорили в \")\n",
    "print(end_time_2 / end_time_1)"
   ]
  },
  {
   "cell_type": "markdown",
   "metadata": {},
   "source": [
    "### №5 \n",
    "Воспользуемся видом Exp(l) распределения и найдем его обратную, после подставим значения случ вел в найденную формулу. Возьмем параметр l = 1"
   ]
  },
  {
   "cell_type": "code",
   "execution_count": 59,
   "metadata": {},
   "outputs": [
    {
     "data": {
      "image/png": "[encoded data removed]",
      "text/plain": [
       "<Figure size 432x288 with 1 Axes>"
      ]
     },
     "metadata": {
      "needs_background": "light"
     },
     "output_type": "display_data"
    }
   ],
   "source": [
    "l = 1\n",
    "randomVector = np.random.rand(1000)\n",
    "reversDistrib = (-np.log(1 - randomVector)) / l\n",
    "\n",
    "plt.hist(reversDistrib, 40, density=True,  label=\"График полученно случ вел\")\n",
    "\n",
    "X = np.linspace(0, 8, 100)\n",
    "plt.plot(X, l*np.exp(-l*X), label=\"График плотности\")\n",
    "\n",
    "plt.legend()\n",
    "plt.show()\n"
   ]
  },
  {
   "cell_type": "code",
   "execution_count": null,
   "metadata": {},
   "outputs": [],
   "source": []
  }
 ],
 "metadata": {
  "kernelspec": {
   "display_name": "Python 3.9.12 ('base')",
   "language": "python",
   "name": "python3"
  },
  "language_info": {
   "codemirror_mode": {
    "name": "ipython",
    "version": 3
   },
   "file_extension": ".py",
   "mimetype": "text/x-python",
   "name": "python",
   "nbconvert_exporter": "python",
   "pygments_lexer": "ipython3",
   "version": "3.9.12"
  },
  "orig_nbformat": 4,
  "vscode": {
   "interpreter": {
    "hash": "40d3a090f54c6569ab1632332b64b2c03c39dcf918b08424e98f38b5ae0af88f"
   }
  }
 },
 "nbformat": 4,
 "nbformat_minor": 2
}
